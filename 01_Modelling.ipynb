##Assignment 1 - Modelling

#Model and objectives

-Draw the plan of a two-zone building.
-Formulate the hypothesis for boundary conditions.
-Choose the types of windows, doors, and walls.
-Draw the thermal circuit: temperature nodes, flow-rate paths, thermal conductances for conduction, convection, long-wave radiation, advection, and P-controllers, sources of temperature and flow-rate,
-Number the temperature nodes and the flow-rate branches (starting from 0).
-Calculate the thermal conductances for conduction, convection, long-wave radiation, and advection.
-Calculate the thermal capacities.
-Write down the incidence matrix A , the conductance matrix G and the capacity matrix C of the system of Algebraic Differential Equations (DAE).
-Define the inputs: temperature sources (vector b ) and flow rate sources (vector f ).
-Write in Python the incidence matrix A , the conductance matrix G and the capacity matrix C of the system of Algebraic Differential Equations (DAE).
-Write in Python the vectors of pointers to the temperature sources b , flow-rate sources f , and outputs y .
